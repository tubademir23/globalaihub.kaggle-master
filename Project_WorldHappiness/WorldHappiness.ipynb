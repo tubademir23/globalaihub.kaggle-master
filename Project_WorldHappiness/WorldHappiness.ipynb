{
 "metadata": {
  "language_info": {
   "codemirror_mode": {
    "name": "ipython",
    "version": 3
   },
   "file_extension": ".py",
   "mimetype": "text/x-python",
   "name": "python",
   "nbconvert_exporter": "python",
   "pygments_lexer": "ipython3",
   "version": "3.8.3-final"
  },
  "orig_nbformat": 2,
  "kernelspec": {
   "name": "python38332bit74facea1a310476ca0c9492d821273ec",
   "display_name": "Python 3.8.3 32-bit"
  }
 },
 "nbformat": 4,
 "nbformat_minor": 2,
 "cells": [
  {
   "cell_type": "code",
   "execution_count": 72,
   "metadata": {},
   "outputs": [],
   "source": [
    "import pandas as pd \n",
    "import os \n",
    "\n"
   ]
  },
  {
   "cell_type": "code",
   "execution_count": 73,
   "metadata": {},
   "outputs": [],
   "source": [
    "column_merge_dir={'Country or region':'Country','Country':'Country',\n",
    "'Happiness.Rank':'Rank','Overall rank':'Rank','Happiness Rank':'Rank',\n",
    "'Region':'Region', 'Family':'Family',\n",
    "'Happiness.Score':'Score', 'Happiness Score': 'Score', 'Score':'Score', 'Generosity':'Generosity','Standard Error':'Standard_Error',\n",
    "'Economy..GDP.per.Capita.':'GDP', 'Economy (GDP per Capita)':'GDP', 'GDP per capita':'GDP', \n",
    "'Health (Life Expectancy)':'Healthy_life_expectancy', 'Health..Life.Expectancy.':'Healthy_life_expectancy','Healthy life expectancy':'Healthy_life_expectancy',\n",
    "'Dystopia.Residual':'Dystopia_Residual', 'Dystopia Residual':'Dystopia_Residual','Whisker.high':'Whisker.high', 'Whisker.low':'Whisker.low', 'Social support':'Social_Support',\n",
    "'Freedom to make life choices':'Freedom', 'Freedom':'Freedom', 'Lower Confidence Interval':'LCI', 'Upper Confidence Interval':'UCI',\n",
    "'Perceptions of corruption':'TGC','Trust (Government Corruption)':'TGC', 'Trust..Government.Corruption.':'TGC'\n",
    "}"
   ]
  },
  {
   "cell_type": "code",
   "execution_count": 74,
   "metadata": {
    "tags": []
   },
   "outputs": [
    {
     "output_type": "execute_result",
     "data": {
      "text/plain": "                                       Region  Rank  Score  Standard_Error  \\\nCountry                  Year                                                \nSwitzerland              2015  Western Europe     1  7.587         0.03411   \nIceland                  2015  Western Europe     2  7.561         0.04884   \nDenmark                  2015  Western Europe     3  7.527         0.03328   \nNorway                   2015  Western Europe     4  7.522         0.03880   \nCanada                   2015   North America     5  7.427         0.03553   \n...                                       ...   ...    ...             ...   \nRwanda                   2019             NaN   152  3.334             NaN   \nTanzania                 2019             NaN   153  3.231             NaN   \nAfghanistan              2019             NaN   154  3.203             NaN   \nCentral African Republic 2019             NaN   155  3.083             NaN   \nSouth Sudan              2019             NaN   156  2.853             NaN   \n\n                                   GDP   Family  Healthy_life_expectancy  \\\nCountry                  Year                                              \nSwitzerland              2015  1.39651  1.34951                  0.94143   \nIceland                  2015  1.30232  1.40223                  0.94784   \nDenmark                  2015  1.32548  1.36058                  0.87464   \nNorway                   2015  1.45900  1.33095                  0.88521   \nCanada                   2015  1.32629  1.32261                  0.90563   \n...                                ...      ...                      ...   \nRwanda                   2019  0.35900      NaN                  0.61400   \nTanzania                 2019  0.47600      NaN                  0.49900   \nAfghanistan              2019  0.35000      NaN                  0.36100   \nCentral African Republic 2019  0.02600      NaN                  0.10500   \nSouth Sudan              2019  0.30600      NaN                  0.29500   \n\n                               Freedom      TGC  Generosity  \\\nCountry                  Year                                 \nSwitzerland              2015  0.66557  0.41978     0.29678   \nIceland                  2015  0.62877  0.14145     0.43630   \nDenmark                  2015  0.64938  0.48357     0.34139   \nNorway                   2015  0.66973  0.36503     0.34699   \nCanada                   2015  0.63297  0.32957     0.45811   \n...                                ...      ...         ...   \nRwanda                   2019  0.55500  0.41100     0.21700   \nTanzania                 2019  0.41700  0.14700     0.27600   \nAfghanistan              2019  0.00000  0.02500     0.15800   \nCentral African Republic 2019  0.22500  0.03500     0.23500   \nSouth Sudan              2019  0.01000  0.09100     0.20200   \n\n                               Dystopia_Residual  LCI  UCI  Whisker.high  \\\nCountry                  Year                                              \nSwitzerland              2015            2.51738  NaN  NaN           NaN   \nIceland                  2015            2.70201  NaN  NaN           NaN   \nDenmark                  2015            2.49204  NaN  NaN           NaN   \nNorway                   2015            2.46531  NaN  NaN           NaN   \nCanada                   2015            2.45176  NaN  NaN           NaN   \n...                                          ...  ...  ...           ...   \nRwanda                   2019                NaN  NaN  NaN           NaN   \nTanzania                 2019                NaN  NaN  NaN           NaN   \nAfghanistan              2019                NaN  NaN  NaN           NaN   \nCentral African Republic 2019                NaN  NaN  NaN           NaN   \nSouth Sudan              2019                NaN  NaN  NaN           NaN   \n\n                               Whisker.low  Social_Support  \nCountry                  Year                               \nSwitzerland              2015          NaN             NaN  \nIceland                  2015          NaN             NaN  \nDenmark                  2015          NaN             NaN  \nNorway                   2015          NaN             NaN  \nCanada                   2015          NaN             NaN  \n...                                    ...             ...  \nRwanda                   2019          NaN           0.711  \nTanzania                 2019          NaN           0.885  \nAfghanistan              2019          NaN           0.517  \nCentral African Republic 2019          NaN           0.000  \nSouth Sudan              2019          NaN           0.575  \n\n[782 rows x 16 columns]",
      "text/html": "<div>\n<style scoped>\n    .dataframe tbody tr th:only-of-type {\n        vertical-align: middle;\n    }\n\n    .dataframe tbody tr th {\n        vertical-align: top;\n    }\n\n    .dataframe thead th {\n        text-align: right;\n    }\n</style>\n<table border=\"1\" class=\"dataframe\">\n  <thead>\n    <tr style=\"text-align: right;\">\n      <th></th>\n      <th></th>\n      <th>Region</th>\n      <th>Rank</th>\n      <th>Score</th>\n      <th>Standard_Error</th>\n      <th>GDP</th>\n      <th>Family</th>\n      <th>Healthy_life_expectancy</th>\n      <th>Freedom</th>\n      <th>TGC</th>\n      <th>Generosity</th>\n      <th>Dystopia_Residual</th>\n      <th>LCI</th>\n      <th>UCI</th>\n      <th>Whisker.high</th>\n      <th>Whisker.low</th>\n      <th>Social_Support</th>\n    </tr>\n    <tr>\n      <th>Country</th>\n      <th>Year</th>\n      <th></th>\n      <th></th>\n      <th></th>\n      <th></th>\n      <th></th>\n      <th></th>\n      <th></th>\n      <th></th>\n      <th></th>\n      <th></th>\n      <th></th>\n      <th></th>\n      <th></th>\n      <th></th>\n      <th></th>\n      <th></th>\n    </tr>\n  </thead>\n  <tbody>\n    <tr>\n      <th>Switzerland</th>\n      <th>2015</th>\n      <td>Western Europe</td>\n      <td>1</td>\n      <td>7.587</td>\n      <td>0.03411</td>\n      <td>1.39651</td>\n      <td>1.34951</td>\n      <td>0.94143</td>\n      <td>0.66557</td>\n      <td>0.41978</td>\n      <td>0.29678</td>\n      <td>2.51738</td>\n      <td>NaN</td>\n      <td>NaN</td>\n      <td>NaN</td>\n      <td>NaN</td>\n      <td>NaN</td>\n    </tr>\n    <tr>\n      <th>Iceland</th>\n      <th>2015</th>\n      <td>Western Europe</td>\n      <td>2</td>\n      <td>7.561</td>\n      <td>0.04884</td>\n      <td>1.30232</td>\n      <td>1.40223</td>\n      <td>0.94784</td>\n      <td>0.62877</td>\n      <td>0.14145</td>\n      <td>0.43630</td>\n      <td>2.70201</td>\n      <td>NaN</td>\n      <td>NaN</td>\n      <td>NaN</td>\n      <td>NaN</td>\n      <td>NaN</td>\n    </tr>\n    <tr>\n      <th>Denmark</th>\n      <th>2015</th>\n      <td>Western Europe</td>\n      <td>3</td>\n      <td>7.527</td>\n      <td>0.03328</td>\n      <td>1.32548</td>\n      <td>1.36058</td>\n      <td>0.87464</td>\n      <td>0.64938</td>\n      <td>0.48357</td>\n      <td>0.34139</td>\n      <td>2.49204</td>\n      <td>NaN</td>\n      <td>NaN</td>\n      <td>NaN</td>\n      <td>NaN</td>\n      <td>NaN</td>\n    </tr>\n    <tr>\n      <th>Norway</th>\n      <th>2015</th>\n      <td>Western Europe</td>\n      <td>4</td>\n      <td>7.522</td>\n      <td>0.03880</td>\n      <td>1.45900</td>\n      <td>1.33095</td>\n      <td>0.88521</td>\n      <td>0.66973</td>\n      <td>0.36503</td>\n      <td>0.34699</td>\n      <td>2.46531</td>\n      <td>NaN</td>\n      <td>NaN</td>\n      <td>NaN</td>\n      <td>NaN</td>\n      <td>NaN</td>\n    </tr>\n    <tr>\n      <th>Canada</th>\n      <th>2015</th>\n      <td>North America</td>\n      <td>5</td>\n      <td>7.427</td>\n      <td>0.03553</td>\n      <td>1.32629</td>\n      <td>1.32261</td>\n      <td>0.90563</td>\n      <td>0.63297</td>\n      <td>0.32957</td>\n      <td>0.45811</td>\n      <td>2.45176</td>\n      <td>NaN</td>\n      <td>NaN</td>\n      <td>NaN</td>\n      <td>NaN</td>\n      <td>NaN</td>\n    </tr>\n    <tr>\n      <th>...</th>\n      <th>...</th>\n      <td>...</td>\n      <td>...</td>\n      <td>...</td>\n      <td>...</td>\n      <td>...</td>\n      <td>...</td>\n      <td>...</td>\n      <td>...</td>\n      <td>...</td>\n      <td>...</td>\n      <td>...</td>\n      <td>...</td>\n      <td>...</td>\n      <td>...</td>\n      <td>...</td>\n      <td>...</td>\n    </tr>\n    <tr>\n      <th>Rwanda</th>\n      <th>2019</th>\n      <td>NaN</td>\n      <td>152</td>\n      <td>3.334</td>\n      <td>NaN</td>\n      <td>0.35900</td>\n      <td>NaN</td>\n      <td>0.61400</td>\n      <td>0.55500</td>\n      <td>0.41100</td>\n      <td>0.21700</td>\n      <td>NaN</td>\n      <td>NaN</td>\n      <td>NaN</td>\n      <td>NaN</td>\n      <td>NaN</td>\n      <td>0.711</td>\n    </tr>\n    <tr>\n      <th>Tanzania</th>\n      <th>2019</th>\n      <td>NaN</td>\n      <td>153</td>\n      <td>3.231</td>\n      <td>NaN</td>\n      <td>0.47600</td>\n      <td>NaN</td>\n      <td>0.49900</td>\n      <td>0.41700</td>\n      <td>0.14700</td>\n      <td>0.27600</td>\n      <td>NaN</td>\n      <td>NaN</td>\n      <td>NaN</td>\n      <td>NaN</td>\n      <td>NaN</td>\n      <td>0.885</td>\n    </tr>\n    <tr>\n      <th>Afghanistan</th>\n      <th>2019</th>\n      <td>NaN</td>\n      <td>154</td>\n      <td>3.203</td>\n      <td>NaN</td>\n      <td>0.35000</td>\n      <td>NaN</td>\n      <td>0.36100</td>\n      <td>0.00000</td>\n      <td>0.02500</td>\n      <td>0.15800</td>\n      <td>NaN</td>\n      <td>NaN</td>\n      <td>NaN</td>\n      <td>NaN</td>\n      <td>NaN</td>\n      <td>0.517</td>\n    </tr>\n    <tr>\n      <th>Central African Republic</th>\n      <th>2019</th>\n      <td>NaN</td>\n      <td>155</td>\n      <td>3.083</td>\n      <td>NaN</td>\n      <td>0.02600</td>\n      <td>NaN</td>\n      <td>0.10500</td>\n      <td>0.22500</td>\n      <td>0.03500</td>\n      <td>0.23500</td>\n      <td>NaN</td>\n      <td>NaN</td>\n      <td>NaN</td>\n      <td>NaN</td>\n      <td>NaN</td>\n      <td>0.000</td>\n    </tr>\n    <tr>\n      <th>South Sudan</th>\n      <th>2019</th>\n      <td>NaN</td>\n      <td>156</td>\n      <td>2.853</td>\n      <td>NaN</td>\n      <td>0.30600</td>\n      <td>NaN</td>\n      <td>0.29500</td>\n      <td>0.01000</td>\n      <td>0.09100</td>\n      <td>0.20200</td>\n      <td>NaN</td>\n      <td>NaN</td>\n      <td>NaN</td>\n      <td>NaN</td>\n      <td>NaN</td>\n      <td>0.575</td>\n    </tr>\n  </tbody>\n</table>\n<p>782 rows × 16 columns</p>\n</div>"
     },
     "metadata": {},
     "execution_count": 74
    }
   ],
   "source": [
    "from pathlib import Path\n",
    "datas=[]\n",
    "years=[]\n",
    "csv_files = [csvfile for csvfile in Path(\"./datasets/\").iterdir() if csvfile.is_file() and csvfile.suffix == '.csv']\n",
    "for file in csv_files:\n",
    "    directory, filename = os.path.split(file)\n",
    "    data = pd.read_csv(file)\n",
    "    data.columns = [column_merge_dir[x] for x in data.columns]\n",
    "    year= filename.split('.')[0]\n",
    "    data['Year']=year\n",
    "    years.append(year)\n",
    "    datas.append(data)\n",
    "\n",
    "df=pd.concat(datas)\n",
    "df.set_index(['Country','Year'])\n"
   ]
  },
  {
   "cell_type": "code",
   "execution_count": 75,
   "metadata": {
    "tags": []
   },
   "outputs": [
    {
     "output_type": "execute_result",
     "data": {
      "text/plain": "(5, 18)"
     },
     "metadata": {},
     "execution_count": 75
    }
   ],
   "source": [
    "df_turkey=df[df.Country=='Turkey']\n",
    "df_turkey.shape"
   ]
  },
  {
   "cell_type": "code",
   "execution_count": 76,
   "metadata": {},
   "outputs": [],
   "source": [
    "features=['GDP','Healthy_life_expectancy', 'Freedom','TGC','Generosity']\n",
    "predicted_feature='Score'"
   ]
  },
  {
   "cell_type": "code",
   "execution_count": 77,
   "metadata": {
    "tags": []
   },
   "outputs": [
    {
     "output_type": "stream",
     "name": "stdout",
     "text": "Intercept: \n 6.8791766912386105\nCoefficients: \n [-1.89938549  1.09288592  1.99557445 -2.5282137  -3.1735162 ]\n"
    }
   ],
   "source": [
    "\n",
    "results=[]\n",
    "from sklearn import linear_model\n",
    "\n",
    "X = df_turkey[features] \n",
    "Y = df_turkey[predicted_feature]\n",
    "\n",
    "regr = linear_model.LinearRegression()\n",
    "regr.fit(X, Y)\n",
    "\n",
    "print('Intercept: \\n', regr.intercept_)\n",
    "print('Coefficients: \\n', regr.coef_)"
   ]
  },
  {
   "cell_type": "code",
   "execution_count": null,
   "metadata": {},
   "outputs": [],
   "source": []
  }
 ]
}